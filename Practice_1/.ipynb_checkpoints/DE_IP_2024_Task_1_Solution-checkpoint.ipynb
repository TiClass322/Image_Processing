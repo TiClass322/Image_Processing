{
 "cells": [
  {
   "cell_type": "markdown",
   "metadata": {},
   "source": [
    "# Практическая работа №1: Обработка изображений"
   ]
  },
  {
   "cell_type": "markdown",
   "metadata": {},
   "source": [
    "Импортируем все необходимые библиотеки"
   ]
  },
  {
   "cell_type": "code",
   "execution_count": null,
   "metadata": {},
   "outputs": [],
   "source": [
    "import cv2\n",
    "import numpy as np\n",
    "import matplotlib.pyplot as plt\n",
    "from skimage.metrics import structural_similarity as ssim\n",
    "from skimage.metrics import mean_squared_error as mse"
   ]
  },
  {
   "cell_type": "markdown",
   "metadata": {},
   "source": [
    "### Задача 1: Загрузка изображения\n",
    "Загружаем `sar_1_gray.jpg` и отображаем его."
   ]
  },
  {
   "cell_type": "code",
   "execution_count": null,
   "metadata": {},
   "outputs": [],
   "source": [
    "image_path = \"sar_1_gray.jpg\"\n",
    "gray_image = cv2.imread(image_path, cv2.IMREAD_GRAYSCALE)\n",
    "\n",
    "if gray_image is not None:\n",
    "    print(f\"Изображение {image_path} успешно загружено.\")\n",
    "    print(f\"Размер изображения: {gray_image.shape}\")\n",
    "    plt.imshow(gray_image, cmap='gray')\n",
    "    plt.title(\"Original sar_1_gray.jpg\")\n",
    "    plt.show()\n",
    "else:\n",
    "    print(f\"Не удалось загрузить изображение по пути: {image_path}\")"
   ]
  },
  {
   "cell_type": "markdown",
   "metadata": {},
   "source": [
    "### Задача 2: Построение гистограммы"
   ]
  },
  {
   "cell_type": "code",
   "execution_count": null,
   "metadata": {},
   "outputs": [],
   "source": [
    "plt.hist(gray_image.ravel(), 256, [0, 256])\n",
    "plt.title(\"Histogram for sar_1_gray.jpg\")\n",
    "plt.xlabel(\"Intensity\")\n",
    "plt.ylabel(\"Pixel Count\")\n",
    "plt.show()"
   ]
  },
  {
   "cell_type": "markdown",
   "metadata": {},
   "source": [
    "### Задача 3: Гамма-коррекция"
   ]
  },
  {
   "cell_type": "code",
   "execution_count": null,
   "metadata": {},
   "outputs": [],
   "source": [
    "def gamma_correction(image, gamma=1.0):\n",
    "    invGamma = 1.0 / gamma\n",
    "    table = np.array([((i / 255.0) ** invGamma) * 255 for i in np.arange(0, 256)]).astype(\"uint8\")\n",
    "    return cv2.LUT(image, table)\n",
    "\n",
    "gamma_low = 0.5\n",
    "gamma_high = 1.5\n",
    "corrected_low = gamma_correction(gray_image, gamma_low)\n",
    "corrected_high = gamma_correction(gray_image, gamma_high)\n",
    "\n",
    "plt.figure(figsize=(12, 6))\n",
    "plt.subplot(1, 2, 1)\n",
    "plt.imshow(corrected_low, cmap='gray')\n",
    "plt.title(f'Gamma < 1 (gamma={gamma_low})')\n",
    "\n",
    "plt.subplot(1, 2, 2)\n",
    "plt.imshow(corrected_high, cmap='gray')\n",
    "plt.title(f'Gamma > 1 (gamma={gamma_high})')\n",
    "\n",
    "plt.show()"
   ]
  },
  {
   "cell_type": "markdown",
   "metadata": {},
   "source": [
    "### Задача 4: Сравнение изображений (MSE, SSIM)"
   ]
  },
  {
   "cell_type": "code",
   "execution_count": null,
   "metadata": {},
   "outputs": [],
   "source": [
    "mse_low = mse(gray_image, corrected_low)\n",
    "ssim_low = ssim(gray_image, corrected_low)\n",
    "mse_high = mse(gray_image, corrected_high)\n",
    "ssim_high = ssim(gray_image, corrected_high)\n",
    "\n",
    "print(f\"Gamma < 1 (gamma={gamma_low}):\")\n",
    "print(f\"  MSE: {mse_low:.2f}\")\n",
    "print(f\"  SSIM: {ssim_low:.2f}\")\n",
    "print(\"---\")\n",
    "print(f\"Gamma > 1 (gamma={gamma_high}):\")\n",
    "print(f\"  MSE: {mse_high:.2f}\")\n",
    "print(f\"  SSIM: {ssim_high:.2f}\")"
   ]
  },
  {
   "cell_type": "markdown",
   "metadata": {},
   "source": [
    "### Задача 5: Статистическая цветокоррекция\n",
    "Реализуем алгоритм на основе статистики (среднее и стандартное отклонение) другого изображения."
   ]
  },
  {
   "cell_type": "code",
   "execution_count": null,
   "metadata": {},
   "outputs": [],
   "source": [
    "image_for_stats_path = \"sar_2_color.jpg\"\n",
    "image_for_stats = cv2.imread(image_for_stats_path, cv2.IMREAD_GRAYSCALE)\n",
    "\n",
    "if image_for_stats is not None:\n",
    "    # Используем эквализированное изображение как источник статистики\n",
    "    eq_gray = cv2.equalizeHist(image_for_stats)\n",
    "    \n",
    "    (target_mean, target_std) = cv2.meanStdDev(gray_image)\n",
    "    (source_mean, source_std) = cv2.meanStdDev(eq_gray)\n",
    "\n",
    "    stat_corrected_image = (gray_image - target_mean) * (source_std / target_std) + source_mean\n",
    "    stat_corrected_image = np.clip(stat_corrected_image, 0, 255).astype(\"uint8\")\n",
    "    \n",
    "    plt.imshow(stat_corrected_image, cmap='gray')\n",
    "    plt.title(\"Statistically Corrected Image\")\n",
    "    plt.show()\n",
    "else:\n",
    "    print(f\"Не удалось загрузить {image_for_stats_path} для статистической коррекции\")"
   ]
  },
  {
   "cell_type": "markdown",
   "metadata": {},
   "source": [
    "### Задача 6: Пороговая фильтрация"
   ]
  },
  {
   "cell_type": "code",
   "execution_count": null,
   "metadata": {},
   "outputs": [],
   "source": [
    "ret, thresh_binary = cv2.threshold(gray_image, 127, 255, cv2.THRESH_BINARY)\n",
    "ret, thresh_binary_inv = cv2.threshold(gray_image, 127, 255, cv2.THRESH_BINARY_INV)\n",
    "ret, thresh_trunc = cv2.threshold(gray_image, 127, 255, cv2.THRESH_TRUNC)\n",
    "ret, thresh_tozero = cv2.threshold(gray_image, 127, 255, cv2.THRESH_TOZERO)\n",
    "ret, thresh_tozero_inv = cv2.threshold(gray_image, 127, 255, cv2.THRESH_TOZERO_INV)\n",
    "\n",
    "titles = ['Binary', 'Binary Inverted', 'Truncated', 'To Zero', 'To Zero Inverted']\n",
    "images = [thresh_binary, thresh_binary_inv, thresh_trunc, thresh_tozero, thresh_tozero_inv]\n",
    "\n",
    "plt.figure(figsize=(15, 10))\n",
    "for i in range(5):\n",
    "    plt.subplot(2, 3, i + 1)\n",
    "    plt.imshow(images[i], cmap='gray')\n",
    "    plt.title(titles[i])\n",
    "    plt.xticks([]), plt.yticks([])\n",
    "plt.show()"
   ]
  }
 ],
 "metadata": {
  "kernelspec": {
   "display_name": "Python 3",
   "language": "python",
   "name": "python3"
  },
  "language_info": {
   "codemirror_mode": {
    "name": "ipython",
    "version": 3
   },
   "file_extension": ".py",
   "mimetype": "text/x-python",
   "name": "python",
   "nbconvert_exporter": "python",
   "pygments_lexer": "ipython3",
   "version": "3.10.4"
  }
 },
 "nbformat": 4,
 "nbformat_minor": 2
}
